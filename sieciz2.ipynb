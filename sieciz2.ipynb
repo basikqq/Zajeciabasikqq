{
  "nbformat": 4,
  "nbformat_minor": 0,
  "metadata": {
    "colab": {
      "name": "sieciz2.ipynb",
      "provenance": [],
      "toc_visible": true,
      "authorship_tag": "ABX9TyN0gvwiBBp6CmY9y5caQdP2",
      "include_colab_link": true
    },
    "kernelspec": {
      "name": "python3",
      "display_name": "Python 3"
    }
  },
  "cells": [
    {
      "cell_type": "markdown",
      "metadata": {
        "id": "view-in-github",
        "colab_type": "text"
      },
      "source": [
        "<a href=\"https://colab.research.google.com/github/basikqq/Zajeciabasikqq/blob/basiamaster/sieciz2.ipynb\" target=\"_parent\"><img src=\"https://colab.research.google.com/assets/colab-badge.svg\" alt=\"Open In Colab\"/></a>"
      ]
    },
    {
      "cell_type": "code",
      "metadata": {
        "id": "znYgi4lZP1l0",
        "colab_type": "code",
        "colab": {}
      },
      "source": [
        ""
      ],
      "execution_count": 0,
      "outputs": []
    },
    {
      "cell_type": "markdown",
      "metadata": {
        "id": "zX9h0bpOQAAM",
        "colab_type": "text"
      },
      "source": [
        "# New Section"
      ]
    },
    {
      "cell_type": "markdown",
      "metadata": {
        "id": "mu7DO7YMQDr_",
        "colab_type": "text"
      },
      "source": [
        "#Sieci - grupa - zajecia2 - 2.03\n"
      ]
    },
    {
      "cell_type": "markdown",
      "metadata": {
        "id": "vcZxwIG3QQ0c",
        "colab_type": "text"
      },
      "source": [
        "#podstawowe operacje w programie\n"
      ]
    },
    {
      "cell_type": "code",
      "metadata": {
        "id": "u438sYr0QkRx",
        "colab_type": "code",
        "colab": {}
      },
      "source": [
        "x = 10\n",
        "x= x+5"
      ],
      "execution_count": 0,
      "outputs": []
    },
    {
      "cell_type": "code",
      "metadata": {
        "id": "-EGiV0KpQqUE",
        "colab_type": "code",
        "colab": {
          "base_uri": "https://localhost:8080/",
          "height": 34
        },
        "outputId": "82536af2-d584-47f0-fd79-7269d8c44f2f"
      },
      "source": [
        "print (x)"
      ],
      "execution_count": 2,
      "outputs": [
        {
          "output_type": "stream",
          "text": [
            "15\n"
          ],
          "name": "stdout"
        }
      ]
    },
    {
      "cell_type": "code",
      "metadata": {
        "id": "pQUWK-9QQ4n9",
        "colab_type": "code",
        "colab": {
          "base_uri": "https://localhost:8080/",
          "height": 34
        },
        "outputId": "9703ff66-ca5f-4ece-ec91-fb617e850310"
      },
      "source": [
        "y=5\n",
        "y+=5\n",
        "print(y)\n"
      ],
      "execution_count": 3,
      "outputs": [
        {
          "output_type": "stream",
          "text": [
            "10\n"
          ],
          "name": "stdout"
        }
      ]
    },
    {
      "cell_type": "code",
      "metadata": {
        "id": "L9ZQP4CkRP1U",
        "colab_type": "code",
        "colab": {
          "base_uri": "https://localhost:8080/",
          "height": 34
        },
        "outputId": "b080a0a1-c60a-4296-a268-be0bc8352ce4"
      },
      "source": [
        "e=2\n",
        "e=x+2\n",
        "print(e)\n"
      ],
      "execution_count": 4,
      "outputs": [
        {
          "output_type": "stream",
          "text": [
            "17\n"
          ],
          "name": "stdout"
        }
      ]
    },
    {
      "cell_type": "code",
      "metadata": {
        "id": "w2ub7rIrRk4e",
        "colab_type": "code",
        "colab": {
          "base_uri": "https://localhost:8080/",
          "height": 34
        },
        "outputId": "96b74837-d669-408b-8289-5eb475829065"
      },
      "source": [
        "p=2\n",
        "p=4-p\n",
        "print(p)\n"
      ],
      "execution_count": 5,
      "outputs": [
        {
          "output_type": "stream",
          "text": [
            "2\n"
          ],
          "name": "stdout"
        }
      ]
    },
    {
      "cell_type": "code",
      "metadata": {
        "id": "QJd3XVWoR2kE",
        "colab_type": "code",
        "colab": {
          "base_uri": "https://localhost:8080/",
          "height": 34
        },
        "outputId": "6d4b3480-5966-4f1d-a774-2340caf8d27c"
      },
      "source": [
        "k=2\n",
        "k=2*2\n",
        "print(k)\n"
      ],
      "execution_count": 7,
      "outputs": [
        {
          "output_type": "stream",
          "text": [
            "4\n"
          ],
          "name": "stdout"
        }
      ]
    },
    {
      "cell_type": "code",
      "metadata": {
        "id": "ysbdQXVASAz1",
        "colab_type": "code",
        "colab": {
          "base_uri": "https://localhost:8080/",
          "height": 34
        },
        "outputId": "610f013b-e861-402b-8ecf-ea34d2c30ee6"
      },
      "source": [
        "s=12\n",
        "s=12/2\n",
        "print(s)\n"
      ],
      "execution_count": 8,
      "outputs": [
        {
          "output_type": "stream",
          "text": [
            "6.0\n"
          ],
          "name": "stdout"
        }
      ]
    },
    {
      "cell_type": "code",
      "metadata": {
        "id": "VPPrZWvOSHxj",
        "colab_type": "code",
        "colab": {
          "base_uri": "https://localhost:8080/",
          "height": 34
        },
        "outputId": "d650fc0c-12d4-43f2-de02-0fc005349ef8"
      },
      "source": [
        "k=14\n",
        "k=12%1\n",
        "print(k)\n"
      ],
      "execution_count": 9,
      "outputs": [
        {
          "output_type": "stream",
          "text": [
            "0\n"
          ],
          "name": "stdout"
        }
      ]
    },
    {
      "cell_type": "code",
      "metadata": {
        "id": "JU9IeBJ9SQV2",
        "colab_type": "code",
        "colab": {
          "base_uri": "https://localhost:8080/",
          "height": 34
        },
        "outputId": "2f9251dc-5c78-47d1-b2a5-64e37d227cfc"
      },
      "source": [
        "d=13\n",
        "d=20**5\n",
        "print(d)\n"
      ],
      "execution_count": 10,
      "outputs": [
        {
          "output_type": "stream",
          "text": [
            "3200000\n"
          ],
          "name": "stdout"
        }
      ]
    },
    {
      "cell_type": "code",
      "metadata": {
        "id": "LBSl0AIDSoi-",
        "colab_type": "code",
        "colab": {
          "base_uri": "https://localhost:8080/",
          "height": 34
        },
        "outputId": "1fe44433-afb3-4e39-cc86-c6f8fb3a99a0"
      },
      "source": [
        "sala= \"3.120\"\n",
        "print (sala*3)\n"
      ],
      "execution_count": 11,
      "outputs": [
        {
          "output_type": "stream",
          "text": [
            "3.1203.1203.120\n"
          ],
          "name": "stdout"
        }
      ]
    },
    {
      "cell_type": "code",
      "metadata": {
        "id": "VS7Oj7DUSxzU",
        "colab_type": "code",
        "colab": {
          "base_uri": "https://localhost:8080/",
          "height": 34
        },
        "outputId": "bd9014c0-d8a6-4a66-a0ed-2072bc26a353"
      },
      "source": [
        "sala = \"3.120\"  \"3.119\"\n",
        "print(sala*2)\n"
      ],
      "execution_count": 12,
      "outputs": [
        {
          "output_type": "stream",
          "text": [
            "3.1203.1193.1203.119\n"
          ],
          "name": "stdout"
        }
      ]
    },
    {
      "cell_type": "code",
      "metadata": {
        "id": "vYhwhh4LUMoD",
        "colab_type": "code",
        "colab": {}
      },
      "source": [
        "sala1=2"
      ],
      "execution_count": 0,
      "outputs": []
    },
    {
      "cell_type": "markdown",
      "metadata": {
        "id": "lbpjUX23VTd8",
        "colab_type": "text"
      },
      "source": [
        "NAZWY ZMIENNYCH\n",
        "‒\tMuszą zaczynać się od litery lub podkreślenia\n",
        "‒\tMogą zawierać litery, cyfry, podkreślenia (bez polskich znaków)\n",
        "‒\tWielkość znaków ma znaczenie\n",
        "‒\tPewne słowa są zarezerwowane np. do funkcji i metod  tych zarezerwowanych słów nie stosuje się do nazywania zmiennych\n",
        "‒\tNazwy zmiennych mają nieść znaczenie!\n",
        "\n",
        "]\n"
      ]
    },
    {
      "cell_type": "markdown",
      "metadata": {
        "id": "SfUuN5dBVdwK",
        "colab_type": "text"
      },
      "source": [
        ""
      ]
    },
    {
      "cell_type": "code",
      "metadata": {
        "id": "i67kGwRRW8nF",
        "colab_type": "code",
        "colab": {
          "base_uri": "https://localhost:8080/",
          "height": 34
        },
        "outputId": "09e2337d-bb1c-40a0-f542-6f0b106042a5"
      },
      "source": [
        "type(3)"
      ],
      "execution_count": 17,
      "outputs": [
        {
          "output_type": "execute_result",
          "data": {
            "text/plain": [
              "int"
            ]
          },
          "metadata": {
            "tags": []
          },
          "execution_count": 17
        }
      ]
    },
    {
      "cell_type": "code",
      "metadata": {
        "id": "7b0G1wTBXCkT",
        "colab_type": "code",
        "colab": {
          "base_uri": "https://localhost:8080/",
          "height": 34
        },
        "outputId": "b8941911-4c68-44f0-c2f4-3b17d8357668"
      },
      "source": [
        "type(\"dog rescue\")\n"
      ],
      "execution_count": 19,
      "outputs": [
        {
          "output_type": "execute_result",
          "data": {
            "text/plain": [
              "str"
            ]
          },
          "metadata": {
            "tags": []
          },
          "execution_count": 19
        }
      ]
    },
    {
      "cell_type": "code",
      "metadata": {
        "id": "uyzSC_EJXH10",
        "colab_type": "code",
        "colab": {
          "base_uri": "https://localhost:8080/",
          "height": 34
        },
        "outputId": "6b6bb174-6f50-4c1b-a3df-80f3b14a471c"
      },
      "source": [
        "zal= True\n",
        "type(zal)"
      ],
      "execution_count": 23,
      "outputs": [
        {
          "output_type": "execute_result",
          "data": {
            "text/plain": [
              "bool"
            ]
          },
          "metadata": {
            "tags": []
          },
          "execution_count": 23
        }
      ]
    },
    {
      "cell_type": "code",
      "metadata": {
        "id": "R-cgAq6IXmjo",
        "colab_type": "code",
        "colab": {
          "base_uri": "https://localhost:8080/",
          "height": 34
        },
        "outputId": "c8fa4a7a-0c90-49a3-b91f-9cc1f137b021"
      },
      "source": [
        "3==3\n"
      ],
      "execution_count": 24,
      "outputs": [
        {
          "output_type": "execute_result",
          "data": {
            "text/plain": [
              "True"
            ]
          },
          "metadata": {
            "tags": []
          },
          "execution_count": 24
        }
      ]
    },
    {
      "cell_type": "code",
      "metadata": {
        "id": "2YxVuMGAXqY-",
        "colab_type": "code",
        "colab": {
          "base_uri": "https://localhost:8080/",
          "height": 34
        },
        "outputId": "03f99640-b188-4b91-8482-04435529e62c"
      },
      "source": [
        "3!=3\n"
      ],
      "execution_count": 25,
      "outputs": [
        {
          "output_type": "execute_result",
          "data": {
            "text/plain": [
              "False"
            ]
          },
          "metadata": {
            "tags": []
          },
          "execution_count": 25
        }
      ]
    },
    {
      "cell_type": "code",
      "metadata": {
        "id": "768BpCRxX0Lj",
        "colab_type": "code",
        "colab": {
          "base_uri": "https://localhost:8080/",
          "height": 34
        },
        "outputId": "f914cc26-26fa-4ec7-ab5e-78c175a9e295"
      },
      "source": [
        "sala==sala "
      ],
      "execution_count": 26,
      "outputs": [
        {
          "output_type": "execute_result",
          "data": {
            "text/plain": [
              "True"
            ]
          },
          "metadata": {
            "tags": []
          },
          "execution_count": 26
        }
      ]
    },
    {
      "cell_type": "code",
      "metadata": {
        "id": "TEK9zwsaX3yg",
        "colab_type": "code",
        "colab": {
          "base_uri": "https://localhost:8080/",
          "height": 34
        },
        "outputId": "df5c055f-577d-48b5-8f1b-7dbd92334280"
      },
      "source": [
        "sala!=sala"
      ],
      "execution_count": 27,
      "outputs": [
        {
          "output_type": "execute_result",
          "data": {
            "text/plain": [
              "False"
            ]
          },
          "metadata": {
            "tags": []
          },
          "execution_count": 27
        }
      ]
    },
    {
      "cell_type": "markdown",
      "metadata": {
        "id": "jiDHkhrwYCuj",
        "colab_type": "text"
      },
      "source": [
        "funkcja TYPE()\n",
        "‒\tCo dostanę po wpisaniu poniższego?\n",
        "o\ttype(3)\n",
        "o\ttype(8.3)\n",
        "o\ttype(‘sparrow’)\n",
        "o\tsparrow=True\n",
        "type(sparrow)\n"
      ]
    },
    {
      "cell_type": "code",
      "metadata": {
        "id": "jDFxwDCrY3An",
        "colab_type": "code",
        "colab": {}
      },
      "source": [
        "len( s ) \n",
        "Zwraca długość obiektu (liczbę elementów) obiektu. Argumentem może być sekwencja (taka jak ciąg, bajty, krotka, lista lub zakres) lub kolekcja (taka jak słownik, zestaw lub zestaw zamrożony).\n"
      ],
      "execution_count": 0,
      "outputs": []
    },
    {
      "cell_type": "code",
      "metadata": {
        "id": "KW-WVUCxZCoB",
        "colab_type": "code",
        "colab": {
          "base_uri": "https://localhost:8080/",
          "height": 34
        },
        "outputId": "79458ce2-019b-419f-928d-1ee658f24702"
      },
      "source": [
        "len(\"pies\")\n"
      ],
      "execution_count": 30,
      "outputs": [
        {
          "output_type": "execute_result",
          "data": {
            "text/plain": [
              "4"
            ]
          },
          "metadata": {
            "tags": []
          },
          "execution_count": 30
        }
      ]
    },
    {
      "cell_type": "code",
      "metadata": {
        "id": "tTbThr4mZKFP",
        "colab_type": "code",
        "colab": {
          "base_uri": "https://localhost:8080/",
          "height": 34
        },
        "outputId": "114a1773-dd3c-4c76-b738-5cd717998ef3"
      },
      "source": [
        "org = [\"Dog\",\"Animal Patrol\",\"KTOZ\"]\n",
        "len(org)"
      ],
      "execution_count": 31,
      "outputs": [
        {
          "output_type": "execute_result",
          "data": {
            "text/plain": [
              "3"
            ]
          },
          "metadata": {
            "tags": []
          },
          "execution_count": 31
        }
      ]
    },
    {
      "cell_type": "code",
      "metadata": {
        "id": "33TuSGR8bnwy",
        "colab_type": "code",
        "colab": {}
      },
      "source": [
        ""
      ],
      "execution_count": 0,
      "outputs": []
    }
  ]
}